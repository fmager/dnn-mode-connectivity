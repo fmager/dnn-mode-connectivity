{
 "cells": [
  {
   "cell_type": "code",
   "execution_count": 20,
   "metadata": {},
   "outputs": [
    {
     "name": "stdout",
     "output_type": "stream",
     "text": [
      "Using device: cpu\n"
     ]
    }
   ],
   "source": [
    "import torch\n",
    "import numpy as np\n",
    "import curves, data, models\n",
    "import plotly.express as px\n",
    "import pandas as pd\n",
    "import copy\n",
    "px.defaults.template = 'plotly_white'\n",
    "\n",
    "\n",
    "\n",
    "device = 'cuda' if torch.cuda.is_available() else 'cpu'\n",
    "print(f'Using device: {device}')\n",
    "lin_path = '/scratch/fmager/fge/cifar10/vgg16/seed_1/polychain/checkpoint-0.pt'\n",
    "path = '/scratch/fmager/fge/cifar10/vgg16/seed_1/polychain/checkpoint-200.pt'\n",
    "lin_checkpoint = torch.load(lin_path, map_location=device)\n",
    "checkpoint = torch.load(path, map_location=device)\n"
   ]
  },
  {
   "cell_type": "code",
   "execution_count": 21,
   "metadata": {},
   "outputs": [],
   "source": [
    "# Arguments\n",
    "dataset = 'CIFAR10'\n",
    "model = 'VGG16'\n",
    "transform = 'VGG'\n",
    "data_path = './data'\n",
    "batch_size = 128\n",
    "num_workers = 4\n",
    "use_test = True\n",
    "curve = 'PolyChain'\n",
    "num_bends = 3"
   ]
  },
  {
   "cell_type": "code",
   "execution_count": 22,
   "metadata": {},
   "outputs": [
    {
     "name": "stdout",
     "output_type": "stream",
     "text": [
      "Files already downloaded and verified\n",
      "You are going to run models on the test set. Are you sure?\n",
      "Files already downloaded and verified\n"
     ]
    },
    {
     "data": {
      "text/plain": [
       "<All keys matched successfully>"
      ]
     },
     "execution_count": 22,
     "metadata": {},
     "output_type": "execute_result"
    }
   ],
   "source": [
    "\n",
    "loaders, num_classes = data.loaders(\n",
    "    dataset,\n",
    "    data_path,\n",
    "    batch_size,\n",
    "    num_workers,\n",
    "    transform,\n",
    "    use_test,\n",
    "    shuffle_train=False\n",
    ")\n",
    "architecture = getattr(models, model)\n",
    "curve = getattr(curves, curve)\n",
    "curve_model = curves.CurveNet(\n",
    "    num_classes,\n",
    "    curve,\n",
    "    architecture.curve,\n",
    "    num_bends,\n",
    "    architecture_kwargs=architecture.kwargs,\n",
    ")\n",
    "lin_curve_model = copy.deepcopy(curve_model)\n",
    "lin_curve_model = lin_curve_model.to(device)\n",
    "lin_curve_model.load_state_dict(lin_checkpoint['model_state'])\n",
    "\n",
    "curve_model = curve_model.to(device)\n",
    "curve_model.load_state_dict(checkpoint['model_state'])"
   ]
  },
  {
   "cell_type": "code",
   "execution_count": 23,
   "metadata": {},
   "outputs": [],
   "source": [
    "T = 50\n",
    "ts = np.linspace(0.0, 1.0, T)"
   ]
  },
  {
   "cell_type": "code",
   "execution_count": null,
   "metadata": {},
   "outputs": [],
   "source": [
    "# Evaluate curve\n",
    "accuracy = []\n",
    "accuracy_lin = []\n",
    "\n",
    "with torch.no_grad():\n",
    "        for i, t in enumerate(ts):\n",
    "                correct_lin = 0.0\n",
    "                correct = 0.0\n",
    "                for input, target in loaders['test']:\n",
    "                        input = input.cuda(non_blocking=True)\n",
    "                        target = target.cuda(non_blocking=True)\n",
    "\n",
    "                        output_lin = lin_curve_model(input, t)\n",
    "                        pred_lin = output_lin.data.argmax(1, keepdim=True)\n",
    "\n",
    "                        output = curve_model(input, t)\n",
    "                        pred = output.data.argmax(1, keepdim=True)\n",
    "\n",
    "                        correct_lin += pred_lin.eq(target.data.view_as(pred_lin)).sum().item()\n",
    "                        correct += pred.eq(target.data.view_as(pred)).sum().item()\n",
    "                \n",
    "                accuracy_lin.append(correct_lin * 100.0 / len(loaders['test'].dataset))\n",
    "                accuracy.append(correct * 100.0 / len(loaders['test'].dataset))\n",
    "                \n",
    "                print(f'{i+1}/{T} - Lin Accuracy: {accuracy_lin[-1]:.2f}, Accuracy: {accuracy[-1]:.2f}')\n"
   ]
  },
  {
   "cell_type": "code",
   "execution_count": null,
   "metadata": {},
   "outputs": [],
   "source": [
    "# Make a plot of the linear and curve fitted accuracy\n",
    "df = {\n",
    "    't': ts,\n",
    "    'linear curve': accuracy_lin,\n",
    "    'polygonal curve': accuracy\n",
    "}\n",
    "df = pd.DataFrame(df)\n",
    "fig = px.line(df, x='t', y=['linear curve', 'polygonal curve'], title='Curve accuracy')\n",
    "fig.show()\n",
    "fig.write_image('figures/accuracy_curve.png')"
   ]
  },
  {
   "cell_type": "code",
   "execution_count": 24,
   "metadata": {},
   "outputs": [],
   "source": [
    "import torch\n",
    "from torch.utils.data import Dataset\n",
    "\n",
    "class Latent(Dataset):\n",
    "    def __init__(self, x, y):\n",
    "        self.x = x\n",
    "        self.y = y\n",
    "\n",
    "    def __len__(self):\n",
    "        return len(self.x)\n",
    "\n",
    "    def __getitem__(self, idx):\n",
    "        return (self.x[idx], self.y[idx])"
   ]
  },
  {
   "cell_type": "code",
   "execution_count": null,
   "metadata": {},
   "outputs": [],
   "source": [
    "print(curve_model.net)"
   ]
  },
  {
   "cell_type": "code",
   "execution_count": 29,
   "metadata": {},
   "outputs": [
    {
     "name": "stdout",
     "output_type": "stream",
     "text": [
      "torch.Size([10000])\n",
      "torch.Size([10000, 512, 50])\n"
     ]
    }
   ],
   "source": [
    "# Define a hook of the curve_model, which returns the latent space before the final layer (fc3)\n",
    "\n",
    "def forward_hook(module, input, output):\n",
    "    outputs.append(output.detach())\n",
    "\n",
    "# Remove previous hooks\n",
    "if 'handle' in locals():\n",
    "    handle.remove()\n",
    "\n",
    "handle = curve_model.net.fc2.register_forward_hook(forward_hook)\n",
    "\n",
    "latent_spaces = []\n",
    "targets = []\n",
    "with torch.no_grad():\n",
    "    for i, t in enumerate(ts):\n",
    "        outputs = []\n",
    "        for j, (input, target) in enumerate(loaders['test']):\n",
    "            if i == 0:\n",
    "                targets.append(target.detach())\n",
    "            input = input.to(device)\n",
    "            target = target.to(device)\n",
    "            \n",
    "            _ = curve_model(input, t)\n",
    "\n",
    "        if i == 0:\n",
    "            targets = torch.cat(targets)\n",
    "        latent_spaces.append(torch.cat(outputs).unsqueeze(-1))\n",
    "latents = torch.cat(latent_spaces, dim=-1)\n",
    "print(targets.shape)\n",
    "print(latents.shape)\n",
    "handle.remove()\n",
    "\n"
   ]
  },
  {
   "cell_type": "code",
   "execution_count": null,
   "metadata": {},
   "outputs": [],
   "source": [
    "# init and save the dataset\n",
    "datast = Latent(latents, targets)\n",
    "torch.save(datast, f'./data/{dataset}_{model}_latent_space.pt')\n"
   ]
  }
 ],
 "metadata": {
  "kernelspec": {
   "display_name": "Python 3 (ipykernel)",
   "language": "python",
   "name": "python3"
  },
  "language_info": {
   "codemirror_mode": {
    "name": "ipython",
    "version": 3
   },
   "file_extension": ".py",
   "mimetype": "text/x-python",
   "name": "python",
   "nbconvert_exporter": "python",
   "pygments_lexer": "ipython3",
   "version": "3.12.3"
  }
 },
 "nbformat": 4,
 "nbformat_minor": 2
}
